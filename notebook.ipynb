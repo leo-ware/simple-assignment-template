{
    "cells": [
        {
            "cell_type": "code",
            "execution_count": null,
            "metadata": {},
            "outputs": [],
            "source": [
                "print(\"hello world\")"
            ]
        }
    ],
    "metadata": {
        "author": "MY_NAME",
        "language_info": {
            "name": "python"
        },
        "orig_nbformat": 4,
        "title": "TITLE_OF_THIS_THING"
    },
    "nbformat": 4,
    "nbformat_minor": 2
}
